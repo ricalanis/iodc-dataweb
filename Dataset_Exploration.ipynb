{
 "cells": [
  {
   "cell_type": "code",
   "execution_count": 1,
   "metadata": {
    "collapsed": true
   },
   "outputs": [],
   "source": [
    "import pandas as pd"
   ]
  },
  {
   "cell_type": "code",
   "execution_count": 12,
   "metadata": {
    "collapsed": false
   },
   "outputs": [],
   "source": [
    "Main_Sessions = pd.read_excel(\"Report_Content.xlsx\",sheetname=\"Main Sessions\")\n",
    "Regional_Talks = pd.read_excel(\"Report_Content.xlsx\",sheetname=\"Regional Talks\")\n",
    "Action_Sessions = pd.read_excel(\"Report_Content.xlsx\",sheetname=\"Action Sessions\")\n",
    "Impact_Sessions = pd.read_excel(\"Report_Content.xlsx\",sheetname=\"Impact Sessions\")\n",
    "Sharing_Sessions = pd.read_excel(\"Report_Content.xlsx\",sheetname=\"Sharing Sessions\")"
   ]
  },
  {
   "cell_type": "code",
   "execution_count": 3,
   "metadata": {
    "collapsed": false,
    "scrolled": true
   },
   "outputs": [
    {
     "data": {
      "text/plain": [
       "['https://www.flickr.com/photos/144810968@N02/30045928602/in/album-72157673692020400/',\n",
       " 'https://www.flickr.com/photos/144810968@N02/30045926262/in/album-72157673692020400/',\n",
       " 'https://www.flickr.com/photos/144810968@N02/30160042815/in/album-72157673692020400/',\n",
       " 'https://www.flickr.com/photos/144810968@N02/30045922182/in/album-72157673692020400/',\n",
       " 'https://www.flickr.com/photos/144810968@N02/30045922182/in/album-72157673692020400/',\n",
       " 'https://www.flickr.com/photos/144810968@N02/30045571562/in/album-72157673692020400/']"
      ]
     },
     "execution_count": 3,
     "metadata": {},
     "output_type": "execute_result"
    }
   ],
   "source": [
    "Main_Sessions.iloc[0][\"Pictures\"].split(\" \")"
   ]
  },
  {
   "cell_type": "code",
   "execution_count": 4,
   "metadata": {
    "collapsed": false,
    "scrolled": true
   },
   "outputs": [
    {
     "data": {
      "text/plain": [
       "'https://twitter.com/statuses/783595652269928448\\nhttps://twitter.com/statuses/784375743665045504\\nhttps://twitter.com/statuses/784306298808446976\\nhttps://twitter.com/statuses/784299937991241728'"
      ]
     },
     "execution_count": 4,
     "metadata": {},
     "output_type": "execute_result"
    }
   ],
   "source": [
    "Main_Sessions.iloc[1][\"Tweets\"]"
   ]
  },
  {
   "cell_type": "code",
   "execution_count": 5,
   "metadata": {
    "collapsed": false
   },
   "outputs": [],
   "source": [
    "import link_processing"
   ]
  },
  {
   "cell_type": "code",
   "execution_count": 6,
   "metadata": {
    "collapsed": true
   },
   "outputs": [],
   "source": [
    "import json"
   ]
  },
  {
   "cell_type": "code",
   "execution_count": 7,
   "metadata": {
    "collapsed": false
   },
   "outputs": [],
   "source": [
    "def file_prep(name):\n",
    "    return \"output_json/\"+ name.lower().replace(\" \",\"_\") + \".json\""
   ]
  },
  {
   "cell_type": "code",
   "execution_count": 8,
   "metadata": {
    "collapsed": true
   },
   "outputs": [],
   "source": [
    "def extract_info(data, name, session, notes, blogs, tweets, photos, youtube):\n",
    "    output = []\n",
    "    for row_raw in data.iterrows():\n",
    "        talk_data = {}\n",
    "        row = row_raw[1]\n",
    "        talk_data[\"name\"] = row[name]\n",
    "        talk_data[\"session\"] = link_processing.talk(row[session])\n",
    "        talk_data[\"notes\"] = row[notes]\n",
    "        talk_data[\"tweets\"] = link_processing.twitter(row[tweets])\n",
    "        talk_data[\"photos\"] = link_processing.photos(row[photos])\n",
    "        talk_data[\"youtube\"] = link_processing.youtube(row[youtube])\n",
    "        print(talk_data)\n",
    "        output.append(talk_data)\n",
    "        with open(file_prep(row[name]), 'w') as fp:\n",
    "            json.dump(talk_data, fp)\n",
    "    return output"
   ]
  },
  {
   "cell_type": "code",
   "execution_count": 13,
   "metadata": {
    "collapsed": false
   },
   "outputs": [
    {
     "name": "stdout",
     "output_type": "stream",
     "text": [
      "{'tweets': [{'link': 'https://twitter.com/statuses/783951136516665344', 'content': 'Happy to hear Naser Faruqui mentioning Open Data Leaders Network during official welcome of #IODC16'}, {'link': 'https://twitter.com/statuses/783944054849560576', 'content': 'There is no better place to be, welcome and muchas gracias @opendatacon #IODC16 #opendatapic.twitter.com/r8MpRR7DQr'}, {'link': 'https://twitter.com/statuses/783937477690130432', 'content': 'Official Welcome #IODC16pic.twitter.com/7k4bxYePU1'}, {'link': 'https://twitter.com/statuses/783935947696201728', 'content': 'Welcome to the 4th international open data conference! #IODC16pic.twitter.com/6oaJ6yTWtR'}, {'link': 'https://twitter.com/statuses/783934508525559808', 'content': 'Day 4 #IODC16 & 1st day of the conference. Waiting for official welcome with @opencontracting, @360Giving & @opendatacoop teams #opendatapic.twitter.com/MmMtiZ7CpX'}, {'link': 'https://twitter.com/statuses/783926599108419584', 'content': 'Welcome to 1st day of #IODC16 join @opendatacharter in main room today @ 16:45 for exciting #opendata announcements! http://sched.co/7dGA\\xa0pic.twitter.com/jxTS0MlGBo'}], 'youtube': '9Y3OGiCnaFE', 'name': 'Official Welcome', 'photos': ['https://www.flickr.com/photos/144810968@N02/30045928602/in/album-72157673692020400/', 'https://www.flickr.com/photos/144810968@N02/30045926262/in/album-72157673692020400/', 'https://www.flickr.com/photos/144810968@N02/30160042815/in/album-72157673692020400/', 'https://www.flickr.com/photos/144810968@N02/30045922182/in/album-72157673692020400/', 'https://www.flickr.com/photos/144810968@N02/30045922182/in/album-72157673692020400/', 'https://www.flickr.com/photos/144810968@N02/30045571562/in/album-72157673692020400/'], 'session': {'description': '\\n Main Session - Official Welcome\\n', 'speakers': [{'speaker': 'Victor Calvo-Sotelo', 'profile': '/speaker/victorcalvosotelo'}, {'speaker': 'Naser Faruqui', 'profile': '/speaker/naserfaruqui1'}, {'speaker': 'Haishan Fu', 'profile': '/speaker/haishanfu1'}, {'speaker': 'Javier Hernández-Ros', 'profile': '/speaker/javierhernandezros2'}, {'speaker': 'Pablo Soto', 'profile': '/speaker/pablosoto'}]}, 'notes': 'https://docs.google.com/document/d/1RvPVygFtgqYTXcrkWAgymTCRkrY6K_LrSxC4POZFiGQ/edit?usp=sharing'}\n",
      "{'tweets': [{'link': 'https://twitter.com/statuses/783595652269928448', 'content': 'Would be keen to hear about the global state of investment in IT at local level. Has a big impact on cities\\' capacity to be \"smart\" #IODC16'}, {'link': 'https://twitter.com/statuses/784375743665045504', 'content': '#IODC16 : Global Goals, Local inpact. GODAN now in room D. @godanSec @mbakatre @dianaszpotowiczpic.twitter.com/gWXFgjcMaQ'}, {'link': 'https://twitter.com/statuses/784306298808446976', 'content': '#Glocality at #IODC16 | local + national + global #opendata with @JeanneHolm @DirDigEng @WorldBank @OECD Interesting speak and common set!'}, {'link': 'https://twitter.com/statuses/784299937991241728', 'content': 'Excited to learn how the @opendatacharter is connecting the dots between global principles and local practices. #IODC16 #OpenDataCharter'}], 'youtube': '9Y3OGiCnaFE', 'name': 'Global Goals, Local Impact', 'photos': ['https://www.flickr.com/photos/144810968@N02/30125452276/in/album-72157673692020400/', 'https://www.flickr.com/photos/144810968@N02/30075620461/in/album-72157673692020400/', 'https://www.flickr.com/photos/144810968@N02/30046197532/in/album-72157673692020400/', 'https://www.flickr.com/photos/144810968@N02/30046195252/in/album-72157673692020400/', 'https://www.flickr.com/photos/144810968@N02/30125453026/in/album-72157673692020400/'], 'session': {'description': '\\n  Open data has been prominently discussed in major global commitments this past year. From the the 2030 Agenda for Sustainable Development, COPS 21 and Anti-Corruption Summit, data has been central to the political debate. However, is this really making a positive change in people’s lives on the ground? The panel will feature high-level female leaders from open data field to reflect on the use of open data to achieve sustainable development around the world. They will also reflect on the role of the international roadmap\\xa0put in motion in the last conference and how the discussions at IODC 2016 can accelerate greater local impact.\\n', 'speakers': [{'speaker': 'Ania Calderón', 'profile': '/speaker/aniacalderon1'}, {'speaker': 'Karin Christiansen', 'profile': '/speaker/karinchristiansen'}, {'speaker': 'Anne Jellema', 'profile': '/speaker/annejellema3'}, {'speaker': 'Jeni Tennison', 'profile': '/speaker/jennitennison'}, {'speaker': 'Millán Berzosa', 'profile': '/moderator/millanberzosa'}]}, 'notes': 'https://docs.google.com/document/d/15fR3sPcRIjQpODSNOXoy-QkegnUa4WB2c-T-FY5Omz4/edit?usp=sharing'}\n",
      "{'tweets': [{'link': 'https://twitter.com/statuses/783592798855528448', 'content': 'At the #IODC16 open data research symposium, tr 2: open data in business. Qualitative and quantitative analysis of business use of open data'}, {'link': 'https://twitter.com/statuses/784397719540494336', 'content': 'Bring together the open data community and the business community. \\n#IODC16'}, {'link': 'https://twitter.com/statuses/784340879108481024', 'content': '\"Closed data favours outdated business models\" #IODC16 #opendata'}, {'link': 'https://twitter.com/statuses/784333720102670337', 'content': \"Buenos Dias #iodc16! Let's talk about optimizing the business of government w data science. Deliver services effectively and efficiently.pic.twitter.com/vK3x9bxapZ\"}], 'youtube': 'CeBnNZs47CQ', 'name': 'Open Data and Business', 'photos': ['https://www.flickr.com/photos/144810968@N02/29864330650/in/album-72157673692020400/'], 'session': {'description': '\\n  The Open Data and Business session brings together business leaders who will talk about economic benefits of open data to the private sector. Executives from Telefonica, Amazon Web Services, and Informa will share how their companies leverage open data to achieve their various business goals. Director of the Open Data Institute will talk about their open data startup incubator program. The session will be moderated by a Lead Economist of the World Bank, which has provided open data assistance to over 45 countries since 2011. \\xa0\\xa0\\xa0\\xa0\\xa0\\xa0\\xa0\\xa0\\xa0\\n', 'speakers': [{'speaker': 'Richard Benjamins', 'profile': '/speaker/richardbenjamins1'}, {'speaker': 'Carlos Fernandez Iñigo', 'profile': '/speaker/carlosfernandezinigo'}, {'speaker': 'Richard Stirling', 'profile': '/speaker/richardstirling1'}, {'speaker': 'Jed Sundwall', 'profile': '/speaker/jedsundwall2'}, {'speaker': 'Amparo Ballivian', 'profile': '/moderator/amparoballivian1'}]}, 'notes': 'https://docs.google.com/document/d/1I1wckxnlzpnPqfeR1_eZxvlOlwxBZo9oF7Jp6VUHzr0/edit?usp=sharing'}\n",
      "{'tweets': [{'link': 'https://twitter.com/statuses/784386242272190464', 'content': 'We need to have an inclusive data revolution in terms of activities going on a global level #IODC16 Yeama Thompson'}, {'link': 'https://twitter.com/statuses/784384977031065600', 'content': '#iodc16 inclusive #opendata revolution http://www.opendataimpactmap.org\\xa0 to track organizations that use Open datapic.twitter.com/arNFY7LeTx'}, {'link': 'https://twitter.com/statuses/784371329990402048', 'content': 'Building an Inclusive Data Revolution with @fperini @Laura_Manley1 @AshleyCasovan. Starting now! …https://internationalopendataconfer2016.sched.org/event/7dGL/main-session-building-an-inclusive-data-revolution?iframe=no&w=&sidebar=yes&bg=no\\xa0… #IODC16 #ImpactMap'}, {'link': 'https://twitter.com/statuses/784355044883705856', 'content': 'Building an Inclusive Data Revolution is just starting right now in the Main Room. #IODC16'}, {'link': 'https://twitter.com/statuses/784332692871491584', 'content': 'What a data revolution can mean for financial transparency and illicit financial flows:  http://bit.ly/2dl71w9\\xa0 #IODC16'}, {'link': 'https://twitter.com/statuses/784304841019367424', 'content': 'We could start by helping them differentiate between #opendata @od4_d @Data4SDGs @opengovpart and @opendatacharter ... ?https://twitter.com/heatherleson/status/784294676538855424\\xa0…'}, {'link': 'https://twitter.com/statuses/784294712211406848', 'content': 'We need data revolution not evolution #IODC16 @DFID_statspic.twitter.com/jF65EUR2Yo'}], 'youtube': 'ZGUn3vqARoY', 'name': 'Open Data and the Data Revolution for Sustainable Development: Opportunities for Joint Action', 'photos': ['https://www.flickr.com/photos/144810968@N02/30125450496/in/album-72157673692020400/', 'https://www.flickr.com/photos/144810968@N02/30160254375/in/album-72157673692020400/'], 'session': {'description': '\\n This session will assess the progress made in advancing the data revolution for sustainable development and the challenges, opportunities, and priority action areas for the year ahead. This session address the following questions:\\n\\n\\nWhat have been some of the successes and challenges in advancing an open data revolution for sustainable development over the past year since the Global Goals were adopted and Global Partnership was formed?\\n\\n\\nHow can we more powerfully and sustainably advance a data revolution for sustainable development that specifically seizes the opportunities of open data along with other new sources of data?\\n\\n\\n\\nWhat are some of priority action areas for moving the agenda forward over the next 1, 3, 5 years?\\n\\n \\xa0\\n', 'speakers': [{'speaker': 'RB', 'profile': '/speaker/rachael_beaven.1vscl5m4'}, {'speaker': 'Rachael Beaven', 'profile': '/speaker/rachael_beaven.1vscl5m4'}, {'speaker': 'Richard Benjamins', 'profile': '/speaker/richardbenjamins1'}, {'speaker': 'Al Kags', 'profile': '/speaker/alkags.ke'}, {'speaker': 'SL', 'profile': '/speaker/sriganeshlokanathan2'}, {'speaker': 'Sriganesh Lokanathan', 'profile': '/speaker/sriganeshlokanathan2'}, {'speaker': 'Ruth Minja', 'profile': '/speaker/ruth_minja.1vscl4hp'}, {'speaker': 'Aditya Agrawal', 'profile': '/moderator/adityaagrawal'}]}, 'notes': 'https://docs.google.com/document/d/1obk0NEtchVvPlRgugTa8H91BZNTJptBIRFiFKH7hlD0/edit?usp=sharing'}\n",
      "{'tweets': [{'link': 'https://twitter.com/statuses/783618028944711685', 'content': 'But to connect the two, open data and statistical communities must be better aligned. Our next #IODC16 workshop tries to bridge this gap.'}, {'link': 'https://twitter.com/statuses/783607930142818305', 'content': '.@opendatacon pre-event \"Openness and National Statistical Offices\" today @ 14:30 CEST. cc @WorldBank @ContactPARIS21 @OpenDataWatch #IODC16'}, {'link': 'https://twitter.com/statuses/784393743210348544', 'content': '#opendata next steps: foster linkages, strengthen statistical agencies, grow the community, and the most impt: impact impact impact #IODC16pic.twitter.com/8qQQplSWxB'}, {'link': 'https://twitter.com/statuses/784393009114804224', 'content': 'We need to demonstrate impact, expand data literacy, capacity building, foster linkages & support statistical offices. #IODC16'}], 'youtube': 'VPosaCiNyHo', 'name': 'Open Data and National Statistical Offices: Experiences and Opportunities', 'photos': ['https://www.flickr.com/photos/144810968@N02/29531586974/in/album-72157673692020400/', 'https://www.flickr.com/photos/144810968@N02/29531586974/in/album-72157673692020400/'], 'session': {'description': '\\n This session will examine the intersection of open data and official statistics. It will be a provocative discussion on the vital role of open data to support Sustainable Development Goals (SDGs). Experts and government representatives will discuss the challenges and opportunities of open data to leverage production and expand use of official statistics. The session will focus on questions including:\\n\\n\\nHow open are official statistics, particularly those being used to support the SDGs?\\n\\n\\nWhere can NSOs and their partners get big returns from their investment in open data, even in the short-term?\\n\\n\\nHow can open data help with addressinsg some of the SDG data challenges of national statistics agencies? What are the experiences of NSOs actively involved in this work?\\n\\n\\n\\nWhat kind of support is needed from the partner agencies and donors?\\n\\n', 'speakers': [{'speaker': 'Aboubacar Sédikh Beye', 'profile': '/speaker/pcamba'}, {'speaker': 'Jeff Chen', 'profile': '/speaker/jeffchen3'}, {'speaker': 'Oliver Chinganya', 'profile': '/speaker/oliverchinganya'}, {'speaker': 'Albina Chuwa', 'profile': '/speaker/albinachuwa'}, {'speaker': 'Haishan Fu', 'profile': '/speaker/haishanfu1'}, {'speaker': 'Eric Swanson', 'profile': '/speaker/ericswanson1'}, {'speaker': 'Shaida Baidee', 'profile': '/moderator/shaidabaidee'}]}, 'notes': 'https://docs.google.com/document/d/1UlAxdts-dlUpSte3eyd0KHBk1yeWAGO-ZOmJUDwYLn8/edit?usp=sharing'}\n",
      "{'tweets': [{'link': 'https://twitter.com/statuses/788793732871127040', 'content': 'Did you miss this session on deepening #opendata impact on open government at #IODC16? @suneetajan moderates http://bit.ly/2ctJzLy\\xa0pic.twitter.com/omPwFbaXRX'}, {'link': 'https://twitter.com/statuses/784025490088689666', 'content': 'Starting now in main hall: deepening impact of #opendata in #opengovernment w/ @suneetajan @opengovpart #IODC16 Come join!'}, {'link': 'https://twitter.com/statuses/784024551256719360', 'content': \"Scaling Up and Deepening Open Data's Transformative Impact in Open Government will start in few minutes in the Main Session Room #IODC16\"}, {'link': 'https://twitter.com/statuses/784000357974282240', 'content': \"I'm speaking at\\nMain Session - Scaling Up and Deepening #OpenData's Transformative Impact in Open Government\\nhttp://ln.is/sched.org/7nNBb\\xa0 #IODC16\"}], 'youtube': 'QLTFlDxUSbg', 'name': \"Scaling Up and Deepening Open Data's Transformative Impact in Open Government\", 'photos': ['https://www.flickr.com/photos/144810968@N02/30125273346/in/album-72157673692020400/', 'https://www.flickr.com/photos/144810968@N02/30046014942/in/album-72157673692020400/', 'https://www.flickr.com/photos/144810968@N02/30075782581/in/album-72157673692020400/'], 'session': {'description': '\\n The purpose of the session is to bring together key sector leaders to showcase examples of how open data is deepening the impact of their work (e.g., natural resources governance through environmental data disclosure, service delivery in health and education, fiscal transparency through open budget data, access to information through proactive disclosure, anti-corruption through open contracting data) and highlight opportunities presented by Open Government Partnership (OGP) to scale up and deepen those efforts.\\nThrough a facilitated roundtable discussion, we hope to:\\n\\n\\nEstablish how open data is the connector and key driver of impact across sectors (health, education, fiscal transparency, access to information, natural resources, and anti-corruption, open contracting, etc.).\\n\\n\\nShowcase with real examples how open data is being used in OGP countries to deepen the impact of open government reforms at the sector level.\\n\\n\\nUnpack the theory of change at work and draw conclusions on what’s working, what’s not working, and why and how future interventions can be successful.\\n\\n\\nSeek ideas on how OGP can scale up and deepen the impact of open government reforms using open data approaches so that it benefits citizens beyond intermediary data users.\\n\\nBy demonstrating real world cases of deployment of open data in OGP countries, we hope participants will develop a better understanding of how OGP can be leveraged for implementing open data interventions across different sectors. Another key outcome is to highlight the role of experts from OGP Working Groups and partners as in leading sectoral open data engagement.\\n', 'speakers': [{'speaker': 'David Lebryk', 'profile': '/speaker/davidlebryk'}, {'speaker': 'PM', 'profile': '/speaker/paul_maltby.1vrj7lav'}, {'speaker': 'Paul Maltby', 'profile': '/speaker/paul_maltby.1vrj7lav'}, {'speaker': 'RP', 'profile': '/speaker/radu_puchiu.1vr85f1f'}, {'speaker': 'Radu Puchiu', 'profile': '/speaker/radu_puchiu.1vr85f1f'}, {'speaker': 'Johanna Pimiento Quintero', 'profile': '/speaker/johanna_pimiento_quintero.1vqt08bd'}, {'speaker': 'Yeama Thompson', 'profile': '/speaker/yeamathompson'}, {'speaker': 'Suneeta Kaimal', 'profile': '/moderator/suneetakaimal'}]}, 'notes': 'https://docs.google.com/document/d/1pRSzpD6Dhu0eOsyWT3KTSxzQd2Q5cuCTD8zQ2xDNhrU/edit?usp=sharing'}\n",
      "{'tweets': [{'link': 'https://twitter.com/statuses/784285839312375808', 'content': 'Charter Track, starting now, will draw together discussions on applying #opendata to key sectors & bringing principles to practice #IODC16'}], 'youtube': 'BLNNuK8Z0Sg', 'name': 'Open Data Charter: Bringing Principles to Practice', 'photos': ['https://www.flickr.com/photos/144810968@N02/29531198794/in/album-72157673692020400/', 'https://www.flickr.com/photos/144810968@N02/30075551471/in/album-72157673692020400/'], 'session': {'description': '\\n  Since its launch in September 2015, support for the Open Data Charter has grown globally. Governments, NGOs, private enterprise, and citizens have begun to use the Charter as a valuable tool to bring together the open data community and implement open data in policy and practice. As the Charter itself continues to grow and develop valuable resources, the plenary will reflect on gains that the Charter has helped create and future opportunities for increased collaboration and sharing across the open data field.\\n', 'speakers': [{'speaker': 'Mohamed Bangura', 'profile': '/speaker/mohamedbangura'}, {'speaker': 'Ania Calderón', 'profile': '/speaker/aniacalderon1'}, {'speaker': 'EL', 'profile': '/speaker/edwinlau'}, {'speaker': 'Edwin Lau', 'profile': '/speaker/edwinlau'}, {'speaker': 'Pavel Richter', 'profile': '/speaker/pavelritcher'}, {'speaker': 'Alexsey Vyskub', 'profile': '/speaker/alekseyvyskub'}, {'speaker': 'AZ', 'profile': '/speaker/masakitakeda'}, {'speaker': 'Ana Zúñiga', 'profile': '/speaker/masakitakeda'}, {'speaker': 'Martin Tisne', 'profile': '/moderator/martintisne1'}]}, 'notes': 'https://docs.google.com/document/d/1siAYRhxpvbpaZ8wbgFiW8zQNqFGaCkEPM_r4pyyBqAc/edit?usp=sharing'}\n",
      "{'tweets': [{'link': 'https://twitter.com/statuses/784323205976563712', 'content': '@andre_jellema @godanSec On Agriculture Open Data Charter package, any good examples are welcome! #IODC16 @anabmap @fiona_ph_smithpic.twitter.com/dn64CnF2HG'}, {'link': 'https://twitter.com/statuses/784301812111126529', 'content': '@opendatacharter @slafayette Morning! Who at IODC could I talk to to find out plans around anti-corruption open data package?'}, {'link': 'https://twitter.com/statuses/784285839312375808', 'content': 'Charter Track, starting now, will draw together discussions on applying #opendata to key sectors & bringing principles to practice #IODC16'}, {'link': 'https://twitter.com/statuses/784058729587154944', 'content': '#IODC16 open data charter - much more work needed around addressing the principle of comparability and interoperability issues. Much more.'}, {'link': 'https://twitter.com/statuses/784056086777200640', 'content': '@martintisne CoST is ready to work with open data charter on infrastructure data #IODC16'}, {'link': 'https://twitter.com/statuses/784053044728197120', 'content': 'We hope to get the declaration of adoption the charter by April 2017 at Personal Democracy Forum CEE #IODC16https://twitter.com/epforgpl/status/784052224771129344\\xa0…'}, {'link': 'https://twitter.com/statuses/784050245336502273', 'content': '#IODC16  high bar for open data working with all stakeholders . Good to see Sierra Leone, paraguay, Costa Rica & Ukraine adopting OD charter'}, {'link': 'https://twitter.com/statuses/784049609026916352', 'content': '@opendatacharter session #IODC16 with @martintisne introducing the open data charter - vision of excellence on open datapic.twitter.com/IZINOAyNO2'}, {'link': 'https://twitter.com/statuses/784046158532513792', 'content': '@AntonioMoneo the de-/re-construction of the charter you mentioned sounded very relevant. Where can I find out more please? #iodc16'}, {'link': 'https://twitter.com/statuses/784033591583989760', 'content': 'Charter Action Track, Oct7 will draw together to discuss ways of applying #opendata to key sectors & bring principles to practice #IODC16pic.twitter.com/yfSpLiIvab'}, {'link': 'https://twitter.com/statuses/784026823772495872', 'content': 'Indigenous people need to be added to the Open Data Charter as an important stakeholder, Stephanie Carroll Ranie #IODC16pic.twitter.com/OQpL4uSGPt'}, {'link': 'https://twitter.com/statuses/784026319512334340', 'content': 'Indigenous peoples need to be included in the #opendata charter #IODC16pic.twitter.com/sZIktpKmLG'}, {'link': 'https://twitter.com/statuses/783954948811853824', 'content': \".@AFJellema  of @webfoundation: Let's use the Charter to get #OpenData rolling. \\n#IODC16 #RoadMap\"}], 'youtube': 'WT0VE1LkNng', 'name': 'Open Data and Platforms', 'photos': ['https://www.flickr.com/photos/144810968@N02/30075928901/in/album-72157673692020400/'], 'session': {'description': '\\n The open data community has made significant progress in developing platforms to make open data more available and accessible. Many solutions are now available either as open source, subscription (e.g., Software As a Service) or traditionally licensed products. As a result, there are many opportunities and factors for data providers, particularly government ministries, to consider in their decision making and selection criteria. This session will provide an overview of the current state of open data publishing platforms. Representatives of several leading data platforms will give “lightning talks” on the demands and trends they’re seeing and what they think might be in store for the future. There will also be a “town hall” style discussion for audience members to share the challenges they are experiencing and get the views of the panel.\\n', 'speakers': [{'speaker': 'Andrew Hoppin', 'profile': '/speaker/andrewhoppin2'}, {'speaker': 'Jean-Marc Lazard', 'profile': '/speaker/jeanmarclazard'}, {'speaker': 'Kevin Merritt', 'profile': '/speaker/kevinmerritt'}, {'speaker': 'Sebastian Moleski', 'profile': '/speaker/sebastianmoleski'}, {'speaker': 'Timothy Herzog', 'profile': '/moderator/timothyherzog'}]}, 'notes': 'https://docs.google.com/document/d/1_KQoOPLLNerbH0NmM2OgSx00XYH52emK01ISwW_ZfL4/edit?usp=sharing'}\n",
      "{'tweets': [{'link': 'https://twitter.com/statuses/785164876775849988', 'content': 'Earlier this week, introducing for @redpuntoes the fourth edition of IODC, for the first time, in Europe #IODC16 https://www.instagram.com/p/BLWZbO3D-Pf/\\xa0pic.twitter.com/TlMOMBX0sn'}, {'link': 'https://twitter.com/statuses/784394178822275072', 'content': 'New report on the state of play of Open Data in Europe http://ow.ly/GpnW304WM78\\xa0 #IODC16'}, {'link': 'https://twitter.com/statuses/784387244060708869', 'content': 'Which #IODC16 sessions might have touched on the topic of #refugees in Europe & related #opendata initiatives?'}, {'link': 'https://twitter.com/statuses/784338603841167360', 'content': 'La presentación de ODINE Open data incubator Europe financiaron a 48 startups https://opendataincubator.eu/companies/\\xa0 #IODC16'}, {'link': 'https://twitter.com/statuses/784337517470359552', 'content': \". @ayymanduh now speaking at the ope' data maturity panel #IODC16pic.twitter.com/p6SQNGfvk7\"}, {'link': 'https://twitter.com/statuses/784291074411892736', 'content': 'Today at #IODC16 Starting with the regional talk Europe and #opendata /cc @wcarrara @EC_opendata'}, {'link': 'https://twitter.com/statuses/784288723835822081', 'content': 'Great endurance of Europe with more than 14 years work in the field of open data and public sector information #IODC16 @EU_DataPortal'}, {'link': 'https://twitter.com/statuses/784268137243959296', 'content': 'Wake up with #IODC16 regional talk on Europe LIVE with @ec_opendata @EU_DataPortal @datosgob http://opendatacon.org/live/\\xa0pic.twitter.com/0gd6XjTH59'}, {'link': 'https://twitter.com/statuses/784077785081978881', 'content': 'tomorrow 12:00 - 12:45 Learnings from ODINE - Open Data incubator for Europe  - Room D #odaccelerators #iodc16'}, {'link': 'https://twitter.com/statuses/784069538132463620', 'content': 'At the #iodc16 panel about Eastern Europe Nadiia Babynska presenting @opora #opendata work and also @danimist_uapic.twitter.com/GuQfL4a9Sh'}, {'link': 'https://twitter.com/statuses/784044755105812481', 'content': 'Join our session on open data in Eastern Europe & Central Asia at 6pm in Room D! #IODC16'}, {'link': 'https://twitter.com/statuses/783988076037177345', 'content': \"On the other side of Europe at #IODC16 we're meeting our friends from Ukraine! @VadymGud @AndriyGazin discussing favorite fail in #opendatapic.twitter.com/arbbaNJ8FB\"}, {'link': 'https://twitter.com/statuses/783968862496751616', 'content': '#OpenData Maturity in Europe 2016 http://www.europeandataportal.eu/en/dashboard\\xa0 | @wcarrara et al via @EU_DataPortal | press http://bit.ly/2dAhyQi\\xa0 | #IODC16'}], 'youtube': '0iyVu30Y8UM', 'name': 'Reginal Talk: Europe', 'photos': ['https://www.flickr.com/photos/144810968@N02/30055254622/in/album-72157674884748745/', 'https://www.flickr.com/photos/144810968@N02/29540794053/in/album-72157674884748745/'], 'session': {'description': '\\n  The European coordination effort is proving key in offering guidelines and facilitating data accessibility, mixing a soft and hard approach for open data policy implementation across all countries. Specific European initiatives will be presented to showcase approaches increasing data accessibility, including two full-fledged data portals: one for the data of the institutions of the EU and the other one harvesting the data from all the European countries; a best case of national open data portal will also be presented.\\n', 'speakers': [{'speaker': 'Wendy Carrara', 'profile': '/speaker/wendycarrara'}, {'speaker': 'Norbert Hohn', 'profile': '/speaker/norberthohn'}, {'speaker': 'Daniele Rizzi', 'profile': '/speaker/danielerizzi'}, {'speaker': 'Francisco Javier García Vieira', 'profile': '/speaker/franciscojaviergarciavieira'}, {'speaker': 'Dinand Tinholt', 'profile': '/moderator/dinandtinholt'}]}, 'notes': 'https://docs.google.com/document/d/1Rgy5-MJx0WV_VnFqyDrNm183gGBA_XF43ZWCCn_NKn8/edit?usp=sharing'}\n",
      "{'tweets': [{'link': 'https://twitter.com/statuses/784360390205595648', 'content': 'Data+Gender #IODC16: @nnenna: Women mourned during childbirth until mother&baby survive. Health center data can help. Focus on meeting needs'}, {'link': 'https://twitter.com/statuses/784339787813494784', 'content': 'Good uses of blockchain for government / #opendata: property registers, health records, #IoT says Luis Meijueiro. cc @lindsay_joelle #IODC16'}, {'link': 'https://twitter.com/statuses/784310549102272512', 'content': '#Colombia opened data to improve public health and social welfare  #IODC16 @johanapimiento'}, {'link': 'https://twitter.com/statuses/784309559271657472', 'content': '\"Data journalism enhances the impact of Colombia\\'s #opendata policy, especially in the health dominion.\" #IODC16'}, {'link': 'https://twitter.com/statuses/784308682955689985', 'content': \"@rafabengoa We need to achieve a high involvement culture in health professionals, so they activate patiens (than than the gov't) #IODC16\"}, {'link': 'https://twitter.com/statuses/784306561665466368', 'content': '@rafabengoa Key Word in all strategic plans health plans: empower! “Let’s be more citizen centered and empower patients” #IODC16'}, {'link': 'https://twitter.com/statuses/784305115234639872', 'content': '#IODC16 @rafabengoa starts the Open Data and Health session explaining the challenges for this sector.pic.twitter.com/SeAFrYgd3J'}, {'link': 'https://twitter.com/statuses/784302492515377152', 'content': '#IODC16 one of the panelists on #opendata and health called in sick. Appropriate.'}, {'link': 'https://twitter.com/statuses/784302025076944896', 'content': 'Watch the #IODC16 live stream now to catch @benmeg talking about @OpenTrials during the #opendata and health session http://opendatacon.org/live\\xa0https://twitter.com/opentrials/status/784292710622502912\\xa0…'}, {'link': 'https://twitter.com/statuses/784301294622171137', 'content': '. @herahussain is on the stage starting the Open Data + Health Session. Right now in the Main Room. #IODC16'}, {'link': 'https://twitter.com/statuses/784070866321768448', 'content': \"Citing Uruguay's example, @bethnoveck says health care quality data should be part of @HealthCareGov. Good idea. Doable, @CMSGov? #IODC16pic.twitter.com/68bcBPdwH0\"}, {'link': 'https://twitter.com/statuses/784037020410667008', 'content': '.@RaduPuchiu discussing how #opendata was used to fight corruption in public procurement in the health sector in Romania #IODC16pic.twitter.com/xAxJnpc7gZ'}, {'link': 'https://twitter.com/statuses/784035163848241152', 'content': \"Equipe #Mafubo paid their own way to #IODC16, to advance their work in women's health and using data to improve lives #TechMousso @Data2X\"}, {'link': 'https://twitter.com/statuses/784031260163334144', 'content': 'Great prez by @asjhn1 on http://www.revistazo.biz/medicamentosabiertos/\\xa0… at #IODC16 - case of how open data leveraged for real impact in public health sector'}, {'link': 'https://twitter.com/statuses/784029434735190016', 'content': '#Corruption risks in health y medicamentos abiertos @abram_hh #IODC16pic.twitter.com/cIYk9wx5tw'}, {'link': 'https://twitter.com/statuses/783976493202436096', 'content': 'Open data can help with mental health problems. We can fight isolation. @Rchards #IODC16'}], 'youtube': 'n9sUFEwK5_A', 'name': 'Open Data and Health', 'photos': ['https://www.flickr.com/photos/144810968@N02/29540918864/in/album-72157674884748745/', 'https://www.flickr.com/photos/144810968@N02/29874091060/in/album-72157674884748745/', 'https://www.flickr.com/photos/144810968@N02/29874089720/in/album-72157674884748745/', 'https://www.flickr.com/photos/144810968@N02/29874088790/in/album-72157674884748745/'], 'session': {'description': '\\n  The panel is designed to discuss not just the open data usage in health but also the reasons why its implementation hasn’t increased as much as in other sectors. A selected group of professionals coming from several places in the world (Colombia, Spain, UK) with a highlighted background in health management and technology will maintain a debate about this topic. For this event, an expert audience has been invited in order to keep a fluent conversation with the panelists. Therefore we expect a rich interchange of knowledge among all of us.\\n', 'speakers': [{'speaker': 'RB', 'profile': '/speaker/rafaelbengoa'}, {'speaker': 'Rafael Bengoa', 'profile': '/speaker/rafaelbengoa'}, {'speaker': 'Ben Meghreblian', 'profile': '/speaker/benmeghreblian'}, {'speaker': 'Johanna Pimiento Quintero', 'profile': '/speaker/johanna_pimiento_quintero.1vqt08bd'}, {'speaker': 'CR', 'profile': '/moderator/carlosroyosanchez'}, {'speaker': 'Carlos Royo Sánchez', 'profile': '/moderator/carlosroyosanchez'}]}, 'notes': 'https://docs.google.com/document/d/1J5m0ln49F9ChqBCZJPY0gizmvfhtJukFRoMar96NHZc/edit?usp=sharing'}\n",
      "{'tweets': [{'link': 'https://twitter.com/miskaknapek/status/784327488939831296', 'content': '#iodc16 - Breaking the Power of Closed - with @martintisne @cabralens, Nerve Falacini & Javier Morenopic.twitter.com/XdTYamqjlf'}], 'youtube': 'MIr0Y1kMgzM', 'name': 'Breaking the Power of Closed', 'photos': ['nan'], 'session': {'description': '\\n The most important revelations about matters that affect our lives in recent years have happened due to people who had the chance to reveal wrongdoing did so.\\nSnowden’s Global Surveillance revelations, Wikileaks’ United States diplomatic cables leak and, most recently, ICIJ’s Panama Papers have been made possible thanks to people risking their lives to let the public know and an increasing group of investigative and data journalists translating dry and boring data and information into stories the public can more easily understand.\\nThe Panama Papers leak alone, allegedly largest in history, exposed 11.5 million financial and legal records, way more than the great majority of open data portals combined.\\nIn these scenarios where secrecy is the rule, can we really expect openness to have an impact? When? How?\\nIf so, what is the kind of information and data we should really fight for to make open?\\nThis session will bring panelists who have worked in some of the most known leaks as well as a whistleblower who made one possible himself (Swiss leaks) to discuss how openness can break the power of closed… if at all...\\n', 'speakers': [{'speaker': 'Mar Cabra', 'profile': '/speaker/marcabra1'}, {'speaker': 'HF', 'profile': '/speaker/hervefalciani'}, {'speaker': 'Hervé Falciani', 'profile': '/speaker/hervefalciani'}, {'speaker': 'JM', 'profile': '/speaker/javiermoreno'}, {'speaker': 'Javier Moreno', 'profile': '/speaker/javiermoreno'}, {'speaker': 'Martin Tisne', 'profile': '/moderator/martintisne1'}]}, 'notes': 'https://docs.google.com/document/d/1oSZSss5ddUmSIHS3bUAzAJhI1qROSXCyQWZLmkIfc1I/edit?usp=sharing'}\n",
      "{'tweets': [{'link': 'https://twitter.com/statuses/784343916459888644', 'content': 'Redflags.eu is a tool to monitor, check & flag #corruption risks in public procurement - Gabriela Nagy of @Transparency_HU #IODC16pic.twitter.com/sSoiSEWzly'}, {'link': 'https://twitter.com/statuses/784341587115380736', 'content': 'Discussing the use of open data in public procurement to increase transparency & efficiency #IODC16 @dublinkedpic.twitter.com/u9omYZ9FLn'}, {'link': 'https://twitter.com/statuses/784320263387176960', 'content': 'How can public procurement can become more transparent + accountable @nrginstitute @opencontracting #iodc16pic.twitter.com/VkUuGXoc5u'}, {'link': 'https://twitter.com/statuses/784037020410667008', 'content': '.@RaduPuchiu discussing how #opendata was used to fight corruption in public procurement in the health sector in Romania #IODC16pic.twitter.com/xAxJnpc7gZ'}, {'link': 'https://twitter.com/statuses/784012862440271872', 'content': 'Now @Prozorro from Ukraine tells us the story of the Ukraine public procurement in Ukraine #IODC16'}], 'youtube': '-dSvs7KnR0E', 'name': 'Open Data and Public Procurement', 'photos': ['nan'], 'session': {'description': '\\n  The session will to present concrete examples for how open data has been used to make public procurement processes more transparent, accountable, and effective to promote positive changes in government and people’s lives. The session will seek to\\xa0reveal how open data can help to clean up public procurements, a $2 billion USD a year industry that is at high risk of corruption and mismanagement.\\n', 'speakers': [{'speaker': 'Michael Canares', 'profile': '/speaker/michaelcanares1'}, {'speaker': 'Hera Hussain', 'profile': '/speaker/herahussain'}, {'speaker': 'Lindsey Marchessault', 'profile': '/speaker/lmarchessault'}, {'speaker': 'Gabriella Nagy', 'profile': '/speaker/gabriellanagy'}, {'speaker': 'Romain Tales', 'profile': '/speaker/romaintales'}, {'speaker': 'AZ', 'profile': '/speaker/masakitakeda'}, {'speaker': 'Ana Zúñiga', 'profile': '/speaker/masakitakeda'}, {'speaker': 'Zoe Reiter', 'profile': '/moderator/zoereiterkomossa'}]}, 'notes': 'https://docs.google.com/document/d/1jOlmrlLHps4KEKT2LSCHJEps0p82Hvj33dQoO5Kr1v0/edit?usp=sharing'}\n",
      "{'tweets': [{'link': 'https://twitter.com/statuses/784364826873200640', 'content': '.@ShaidaBadiee: [Government] gender data openness is an issue. To start, how can [public] gender data complement this missing data? #IODC16'}, {'link': 'https://twitter.com/statuses/784363916881199105', 'content': 'Panel on gender at #IODC16 is one the best By debating on gender issues in open data community we debating on the actual impact of open data'}, {'link': 'https://twitter.com/statuses/784363628438913024', 'content': 'Surprise!\\nthe audience in the Gender & data panel is mostly women.\\n\\nGender issues is something we all have to work on!\\n#IODC16 @opendataconhttps://twitter.com/od4_d/status/784360419745992704\\xa0…'}, {'link': 'https://twitter.com/statuses/784362622858698752', 'content': 'Data & gender session: highlighting lack of gendered data on gov programs #IODC16 Important for #nwtpoli & elsewherepic.twitter.com/KHoHAy7KM2'}, {'link': 'https://twitter.com/statuses/784360211880501248', 'content': 'Great panel on gender and open data organised by @OpenHeroines #IODC16pic.twitter.com/1woJaDZNbI'}, {'link': 'https://twitter.com/statuses/784357775484841984', 'content': 'Gender and data session starting now! What are the challenges in making sure all women are counted? #genderdata #IODC16pic.twitter.com/svHfHC8bLn'}, {'link': 'https://twitter.com/statuses/784357280775045122', 'content': '@nnenna for gender data to become reality we need women in data and technology sector #IODC16pic.twitter.com/SSqr2M71Ob'}, {'link': 'https://twitter.com/statuses/784357165918195716', 'content': 'No interaction between data & gender community in Africa, #tech is seen as a male thing. Data on women was not available #IODC16pic.twitter.com/DQQ9LKIe7H'}, {'link': 'https://twitter.com/statuses/784356863093542912', 'content': 'Before talking about gender data, we have to know that there are a gender community and a data community.  @nnenna #IODC16'}, {'link': 'https://twitter.com/statuses/784356015118622720', 'content': 'Open Data + Gender Equality @OpenHeroines @OpenDataKosovo @datameet #IODC16pic.twitter.com/VQRoVrzp9O'}, {'link': 'https://twitter.com/statuses/784355256666914816', 'content': \"I've been looking forward to @OpenHeroines panel on gender in data #IODC16pic.twitter.com/L08HP82E1h\"}, {'link': 'https://twitter.com/statuses/784354348738510848', 'content': 'My data + gender session t-shirt #IODC16 #opendatapic.twitter.com/NWkWE1Buk6'}, {'link': 'https://twitter.com/statuses/784353920923631616', 'content': 'Kicking off the open data and gender panel #IODC16pic.twitter.com/DTLEGPBBL2'}, {'link': 'https://twitter.com/statuses/784032649753092100', 'content': 'Data+Inequality is running at the moment at Room C. #IOCD16pic.twitter.com/0sWV6wxrXV'}, {'link': 'https://twitter.com/statuses/784028486499532800', 'content': 'Loving the presentation by @NataliaMazotte and her clip on challenge of gender data #DataJournalism #IODC16pic.twitter.com/uirZvkw35m'}, {'link': 'https://twitter.com/statuses/783979227473387520', 'content': 'Global Goals for Local Impact - Achieving Gender Equality with Data #IODC16https://www.youtube.com/watch?v=Mch_FVp-px0&feature=share\\xa0…'}, {'link': 'https://twitter.com/statuses/783970689879506945', 'content': 'Global Goals for Local Impact - Achieving Gender Equality with Data #IODC16https://www.youtube.com/watch?v=Mch_FVp-px0&feature=share\\xa0…'}, {'link': 'https://twitter.com/statuses/783954394526220288', 'content': 'We need to be innovative on how we close the gender gap in data - @AFJellema calling on #IODC16 community to step up #genderdata'}, {'link': 'https://twitter.com/statuses/783953983786323968', 'content': '.@AFJellema  of @webfoundation: Need to recognize that data users have a language, they have a gender and they have needs\\n#IODC16 #RoadMap'}], 'youtube': 'l6Vb2mtC_hI', 'name': 'Data and Gender: Thinking Critically', 'photos': ['nan'], 'session': {'description': '\\n  Counted and included: how do we close the gender gap in open data?\\nSDG 5 sets lofty targets for gender equality, and open data has the potential to be a critical tool in delivering a more just and equal world for women. But like any technology, whether it lives up to that promise will be influenced by who designs it - and with which ends in mind. While there are many facets of diversity worthy of discussion, on this panel we will focus on gender inclusivity.\\nThe panelists will share their experiences on finding accurate gender data, conceiving open data projects with women as creators and end-users in mind, and promoting the participation of more women in the open data field. \\xa0\\xa0\\n', 'speakers': [{'speaker': 'Paulina Bustos Arellano', 'profile': '/speaker/paulinabustosarellano1'}, {'speaker': 'Georges Labreche', 'profile': '/speaker/georgeslabreche'}, {'speaker': 'Nnenna Nwakanma', 'profile': '/speaker/nnennanwakanma1'}, {'speaker': 'Nisha Thompson', 'profile': '/speaker/nishathompson1'}, {'speaker': 'Kristen Robinson', 'profile': '/moderator/kristenrobinson1'}]}, 'notes': 'https://docs.google.com/document/d/1teN6lQMRip0mVAhMB-9i0ZJzGj8xWBzm5kIfQvnvPK4/edit?usp=sharing'}\n",
      "{'tweets': [{'link': 'https://twitter.com/statuses/784690498653085696', 'content': 'The Open Data Revolution #IODC16pic.twitter.com/AXhl0YpLVO'}, {'link': 'https://twitter.com/statuses/784384977031065600', 'content': '#iodc16 inclusive #opendata revolution http://www.opendataimpactmap.org\\xa0 to track organizations that use Open datapic.twitter.com/arNFY7LeTx'}, {'link': 'https://twitter.com/statuses/784371329990402048', 'content': 'Building an Inclusive Data Revolution with @fperini @Laura_Manley1 @AshleyCasovan. Starting now! …https://internationalopendataconfer2016.sched.org/event/7dGL/main-session-building-an-inclusive-data-revolution?iframe=no&w=&sidebar=yes&bg=no\\xa0… #IODC16 #ImpactMap'}, {'link': 'https://twitter.com/statuses/784355044883705856', 'content': 'Building an Inclusive Data Revolution is just starting right now in the Main Room. #IODC16'}, {'link': 'https://twitter.com/statuses/784332692871491584', 'content': 'What a data revolution can mean for financial transparency and illicit financial flows:  http://bit.ly/2dl71w9\\xa0 #IODC16'}, {'link': 'https://twitter.com/statuses/784304841019367424', 'content': 'We could start by helping them differentiate between #opendata @od4_d @Data4SDGs @opengovpart and @opendatacharter ... ?https://twitter.com/heatherleson/status/784294676538855424\\xa0…'}, {'link': 'https://twitter.com/statuses/784294712211406848', 'content': 'We need data revolution not evolution #IODC16 @DFID_statspic.twitter.com/jF65EUR2Yo'}, {'link': 'https://twitter.com/statuses/784070442885738496', 'content': 'MENA startup leader @AliRebaie sharing how data driven business can help accelerate the data revolution #iodc16 @Dataurorapic.twitter.com/vrumVWvlNg'}, {'link': 'https://twitter.com/statuses/784067251079110656', 'content': 'Data revolution in MENA-mapping data in regions&data for dev,connecting with unusual suspects in the region by @A2K4D  (from Cairo) #IODC16'}, {'link': 'https://twitter.com/statuses/784059641495891968', 'content': 'What a data revolution can mean for financial transparency and illicit financial flows:  http://bit.ly/2dl71w9\\xa0 #IODC16'}, {'link': 'https://twitter.com/statuses/783995576455168000', 'content': 'Listening in on \"Open Data and the Data Revolution for Sustainable Development\" http://sched.co/7dFy\\xa0 @OpenDataCon #IODC16'}], 'youtube': 'B_UroacM3T0', 'name': 'Building an Inclusive Data Revolution', 'photos': ['nan'], 'session': {'description': '\\n  Regional open data agendas such as Condatos, Developing the Caribbean, and the first African Open Data Conference are strengthening a bottom-up and inclusive global open data revolution. Building on the regional sessions that take place on day 1, this main session will highlight and celebrate the diversity of the open data movement around the world, the key next steps in regional processes and explore the opportunities for greater coordination and knowledge sharing between \\xa0global and regional efforts.\\n', 'speakers': [{'speaker': 'Ashley Casovan', 'profile': '/speaker/ashleycasovan1'}, {'speaker': 'Karen Chang', 'profile': '/speaker/karenchang'}, {'speaker': 'Laura Manley', 'profile': '/speaker/lauramanley2'}, {'speaker': 'Lejla Sadiku', 'profile': '/speaker/lejlasadiku'}, {'speaker': 'Nancy Salem', 'profile': '/speaker/nancy_salem.1vqo4r9t'}, {'speaker': 'Yeama Thompson', 'profile': '/speaker/yeamathompson'}, {'speaker': 'Fernando Perini', 'profile': '/moderator/fperini'}]}, 'notes': 'https://docs.google.com/document/d/1yHhMprYmcZXX3H5pPuf2v-kXmtdmrWMmTiqncMukNJY/edit?usp=sharing'}\n"
     ]
    },
    {
     "ename": "AttributeError",
     "evalue": "'NoneType' object has no attribute 'text'",
     "output_type": "error",
     "traceback": [
      "\u001b[0;31m---------------------------------------------------------------------------\u001b[0m",
      "\u001b[0;31mAttributeError\u001b[0m                            Traceback (most recent call last)",
      "\u001b[0;32m<ipython-input-13-14c07f8ce606>\u001b[0m in \u001b[0;36m<module>\u001b[0;34m()\u001b[0m\n\u001b[0;32m----> 1\u001b[0;31m \u001b[0mextract_info\u001b[0m\u001b[0;34m(\u001b[0m\u001b[0mMain_Sessions\u001b[0m\u001b[0;34m,\u001b[0m\u001b[0;34m\"Session\"\u001b[0m\u001b[0;34m,\u001b[0m\u001b[0;34m\"Sched Link\"\u001b[0m\u001b[0;34m,\u001b[0m\u001b[0;34m\"Rapporteur Notes\"\u001b[0m\u001b[0;34m,\u001b[0m\u001b[0;34m\"IODC Blogs\"\u001b[0m\u001b[0;34m,\u001b[0m\u001b[0;34m\"Tweets\"\u001b[0m\u001b[0;34m,\u001b[0m\u001b[0;34m\"Pictures\"\u001b[0m\u001b[0;34m,\u001b[0m\u001b[0;34m\"YouTube\"\u001b[0m\u001b[0;34m)\u001b[0m\u001b[0;34m\u001b[0m\u001b[0m\n\u001b[0m",
      "\u001b[0;32m<ipython-input-8-2b73ba72d62b>\u001b[0m in \u001b[0;36mextract_info\u001b[0;34m(data, name, session, notes, blogs, tweets, photos, youtube)\u001b[0m\n\u001b[1;32m      5\u001b[0m         \u001b[0mrow\u001b[0m \u001b[0;34m=\u001b[0m \u001b[0mrow_raw\u001b[0m\u001b[0;34m[\u001b[0m\u001b[0;36m1\u001b[0m\u001b[0;34m]\u001b[0m\u001b[0;34m\u001b[0m\u001b[0m\n\u001b[1;32m      6\u001b[0m         \u001b[0mtalk_data\u001b[0m\u001b[0;34m[\u001b[0m\u001b[0;34m\"name\"\u001b[0m\u001b[0;34m]\u001b[0m \u001b[0;34m=\u001b[0m \u001b[0mrow\u001b[0m\u001b[0;34m[\u001b[0m\u001b[0mname\u001b[0m\u001b[0;34m]\u001b[0m\u001b[0;34m\u001b[0m\u001b[0m\n\u001b[0;32m----> 7\u001b[0;31m         \u001b[0mtalk_data\u001b[0m\u001b[0;34m[\u001b[0m\u001b[0;34m\"session\"\u001b[0m\u001b[0;34m]\u001b[0m \u001b[0;34m=\u001b[0m \u001b[0mlink_processing\u001b[0m\u001b[0;34m.\u001b[0m\u001b[0mtalk\u001b[0m\u001b[0;34m(\u001b[0m\u001b[0mrow\u001b[0m\u001b[0;34m[\u001b[0m\u001b[0msession\u001b[0m\u001b[0;34m]\u001b[0m\u001b[0;34m)\u001b[0m\u001b[0;34m\u001b[0m\u001b[0m\n\u001b[0m\u001b[1;32m      8\u001b[0m         \u001b[0mtalk_data\u001b[0m\u001b[0;34m[\u001b[0m\u001b[0;34m\"notes\"\u001b[0m\u001b[0;34m]\u001b[0m \u001b[0;34m=\u001b[0m \u001b[0mrow\u001b[0m\u001b[0;34m[\u001b[0m\u001b[0mnotes\u001b[0m\u001b[0;34m]\u001b[0m\u001b[0;34m\u001b[0m\u001b[0m\n\u001b[1;32m      9\u001b[0m         \u001b[0mtalk_data\u001b[0m\u001b[0;34m[\u001b[0m\u001b[0;34m\"tweets\"\u001b[0m\u001b[0;34m]\u001b[0m \u001b[0;34m=\u001b[0m \u001b[0mlink_processing\u001b[0m\u001b[0;34m.\u001b[0m\u001b[0mtwitter\u001b[0m\u001b[0;34m(\u001b[0m\u001b[0mrow\u001b[0m\u001b[0;34m[\u001b[0m\u001b[0mtweets\u001b[0m\u001b[0;34m]\u001b[0m\u001b[0;34m)\u001b[0m\u001b[0;34m\u001b[0m\u001b[0m\n",
      "\u001b[0;32m/Users/rdalanist/DropboxAnterior/CivicaDigital/IODC/content_processing/link_processing.py\u001b[0m in \u001b[0;36mtalk\u001b[0;34m(link)\u001b[0m\n\u001b[1;32m     36\u001b[0m     \u001b[0msoup\u001b[0m \u001b[0;34m=\u001b[0m \u001b[0mbs4\u001b[0m\u001b[0;34m.\u001b[0m\u001b[0mBeautifulSoup\u001b[0m\u001b[0;34m(\u001b[0m\u001b[0mcontent\u001b[0m\u001b[0;34m)\u001b[0m\u001b[0;34m\u001b[0m\u001b[0m\n\u001b[1;32m     37\u001b[0m     \u001b[0mdescription_section\u001b[0m \u001b[0;34m=\u001b[0m \u001b[0msoup\u001b[0m\u001b[0;34m.\u001b[0m\u001b[0mfind\u001b[0m\u001b[0;34m(\u001b[0m\u001b[0;34m\"div\"\u001b[0m\u001b[0;34m,\u001b[0m\u001b[0;34m{\u001b[0m\u001b[0;34m\"class\"\u001b[0m\u001b[0;34m:\u001b[0m\u001b[0;34m\"tip-description\"\u001b[0m\u001b[0;34m}\u001b[0m\u001b[0;34m)\u001b[0m\u001b[0;34m\u001b[0m\u001b[0m\n\u001b[0;32m---> 38\u001b[0;31m     \u001b[0mdescription\u001b[0m \u001b[0;34m=\u001b[0m \u001b[0mdescription_section\u001b[0m\u001b[0;34m.\u001b[0m\u001b[0mtext\u001b[0m\u001b[0;34m\u001b[0m\u001b[0m\n\u001b[0m\u001b[1;32m     39\u001b[0m     \u001b[0mspeakers_section\u001b[0m \u001b[0;34m=\u001b[0m \u001b[0msoup\u001b[0m\u001b[0;34m.\u001b[0m\u001b[0mfind\u001b[0m\u001b[0;34m(\u001b[0m\u001b[0;34m\"div\"\u001b[0m\u001b[0;34m,\u001b[0m\u001b[0;34m{\u001b[0m\u001b[0;34m\"class\"\u001b[0m\u001b[0;34m:\u001b[0m\u001b[0;34m\"tip-roles\"\u001b[0m\u001b[0;34m}\u001b[0m\u001b[0;34m)\u001b[0m\u001b[0;34m\u001b[0m\u001b[0m\n\u001b[1;32m     40\u001b[0m     \u001b[0mlinks\u001b[0m \u001b[0;34m=\u001b[0m \u001b[0mextract_links\u001b[0m\u001b[0;34m(\u001b[0m\u001b[0mspeakers_section\u001b[0m\u001b[0;34m)\u001b[0m\u001b[0;34m\u001b[0m\u001b[0m\n",
      "\u001b[0;31mAttributeError\u001b[0m: 'NoneType' object has no attribute 'text'"
     ]
    }
   ],
   "source": [
    "extract_info(Main_Sessions,\"Session\",\"Sched Link\",\"Rapporteur Notes\",\"IODC Blogs\",\"Tweets\",\"Pictures\",\"YouTube\")"
   ]
  },
  {
   "cell_type": "code",
   "execution_count": 8,
   "metadata": {
    "collapsed": false,
    "scrolled": true
   },
   "outputs": [
    {
     "data": {
      "text/html": [
       "<div>\n",
       "<table border=\"1\" class=\"dataframe\">\n",
       "  <thead>\n",
       "    <tr style=\"text-align: right;\">\n",
       "      <th></th>\n",
       "      <th>Session</th>\n",
       "      <th>Sched Link</th>\n",
       "      <th>YouTube</th>\n",
       "      <th>Session Planning Notes</th>\n",
       "      <th>Rapporteur Notes</th>\n",
       "      <th>IODC Blogs</th>\n",
       "      <th>Other Blogs</th>\n",
       "      <th>Tweets</th>\n",
       "      <th>Pictures</th>\n",
       "    </tr>\n",
       "  </thead>\n",
       "  <tbody>\n",
       "    <tr>\n",
       "      <th>0</th>\n",
       "      <td>Official Welcome</td>\n",
       "      <td>http://sched.co/7dFq</td>\n",
       "      <td>https://www.youtube.com/watch?v=9Y3OGiCnaFE</td>\n",
       "      <td>https://docs.google.com/document/d/1Nep67kQVFu...</td>\n",
       "      <td>https://docs.google.com/document/d/1RvPVygFtgq...</td>\n",
       "      <td>NaN</td>\n",
       "      <td>NaN</td>\n",
       "      <td>ttps://twitter.com/statuses/783951136516665344...</td>\n",
       "      <td>NaN</td>\n",
       "    </tr>\n",
       "    <tr>\n",
       "      <th>1</th>\n",
       "      <td>Global Goals, Local Impact</td>\n",
       "      <td>http://sched.co/7dFs</td>\n",
       "      <td>https://www.youtube.com/watch?v=9Y3OGiCnaFE</td>\n",
       "      <td>https://docs.google.com/document/d/1Nep67kQVFu...</td>\n",
       "      <td>https://docs.google.com/document/d/15fR3sPcRIj...</td>\n",
       "      <td>http://opendatacon.org/share-your-best-open-da...</td>\n",
       "      <td>NaN</td>\n",
       "      <td>https://twitter.com/statuses/78359565226992844...</td>\n",
       "      <td>NaN</td>\n",
       "    </tr>\n",
       "    <tr>\n",
       "      <th>2</th>\n",
       "      <td>Open Data and Business</td>\n",
       "      <td>http://sched.co/7dFu</td>\n",
       "      <td>https://www.youtube.com/watch?v=CeBnNZs47CQ</td>\n",
       "      <td>https://docs.google.com/document/d/1-G9xEVr3IC...</td>\n",
       "      <td>https://docs.google.com/document/d/1I1wckxnlzp...</td>\n",
       "      <td>NaN</td>\n",
       "      <td>NaN</td>\n",
       "      <td>https://twitter.com/statuses/78359279885552844...</td>\n",
       "      <td>NaN</td>\n",
       "    </tr>\n",
       "    <tr>\n",
       "      <th>3</th>\n",
       "      <td>Open Data and the Data Revolution for Sustaina...</td>\n",
       "      <td>http://sched.co/7dFy</td>\n",
       "      <td>https://www.youtube.com/watch?v=ZGUn3vqARoY</td>\n",
       "      <td>https://docs.google.com/document/d/18RHZ7AAMd8...</td>\n",
       "      <td>https://docs.google.com/document/d/1obk0NEtchV...</td>\n",
       "      <td>http://opendatacon.org/scaling-up-the-open-dat...</td>\n",
       "      <td>NaN</td>\n",
       "      <td>https://twitter.com/statuses/78438624227219046...</td>\n",
       "      <td>NaN</td>\n",
       "    </tr>\n",
       "    <tr>\n",
       "      <th>4</th>\n",
       "      <td>Open Data and National Statistical Offices: Ex...</td>\n",
       "      <td>http://sched.co/7dG4</td>\n",
       "      <td>https://www.youtube.com/watch?v=VPosaCiNyHo</td>\n",
       "      <td>https://docs.google.com/document/d/1nPyRMznZ0U...</td>\n",
       "      <td>https://docs.google.com/document/d/1UlAxdts-dl...</td>\n",
       "      <td>http://opendatacon.org/three-takeaways-from-io...</td>\n",
       "      <td>NaN</td>\n",
       "      <td>https://twitter.com/statuses/78361802894471168...</td>\n",
       "      <td>NaN</td>\n",
       "    </tr>\n",
       "    <tr>\n",
       "      <th>5</th>\n",
       "      <td>Scaling Up and Deepening Open Data's Transform...</td>\n",
       "      <td>http://sched.co/7dG6</td>\n",
       "      <td>https://www.youtube.com/watch?v=QLTFlDxUSbg</td>\n",
       "      <td>https://docs.google.com/document/d/1MXR6lsqa51...</td>\n",
       "      <td>https://docs.google.com/document/d/1pRSzpD6Dhu...</td>\n",
       "      <td>http://opendatacon.org/driving-smart-city-inno...</td>\n",
       "      <td>NaN</td>\n",
       "      <td>https://twitter.com/statuses/78879373287112704...</td>\n",
       "      <td>NaN</td>\n",
       "    </tr>\n",
       "    <tr>\n",
       "      <th>6</th>\n",
       "      <td>Open Data Charter: Bringing Principles to Prac...</td>\n",
       "      <td>http://sched.co/7dGA</td>\n",
       "      <td>https://www.youtube.com/watch?v=BLNNuK8Z0Sg</td>\n",
       "      <td>https://docs.google.com/document/d/16Q3CNOlwlO...</td>\n",
       "      <td>https://docs.google.com/document/d/1siAYRhxpvb...</td>\n",
       "      <td>http://opendatacon.org/engaging-the-private-se...</td>\n",
       "      <td>NaN</td>\n",
       "      <td>https://twitter.com/statuses/784285839312375808</td>\n",
       "      <td>NaN</td>\n",
       "    </tr>\n",
       "    <tr>\n",
       "      <th>7</th>\n",
       "      <td>Open Data and Platforms</td>\n",
       "      <td>http://sched.co/7dG8</td>\n",
       "      <td>https://www.youtube.com/watch?v=WT0VE1LkNng</td>\n",
       "      <td>https://docs.google.com/document/d/1r8_yTE5msY...</td>\n",
       "      <td>https://docs.google.com/document/d/1_KQoOPLLNe...</td>\n",
       "      <td>http://opendatacon.org/three-takeaways-from-io...</td>\n",
       "      <td>NaN</td>\n",
       "      <td>https://twitter.com/statuses/78432320597656371...</td>\n",
       "      <td>NaN</td>\n",
       "    </tr>\n",
       "    <tr>\n",
       "      <th>8</th>\n",
       "      <td>Reginal Talk: Europe</td>\n",
       "      <td>http://sched.co/7dGD</td>\n",
       "      <td>https://www.youtube.com/watch?v=0iyVu30Y8UM</td>\n",
       "      <td>https://docs.google.com/document/d/1SAVqC1mqqg...</td>\n",
       "      <td>https://docs.google.com/document/d/1Rgy5-MJx0W...</td>\n",
       "      <td>http://opendatacon.org/2882\\nhttp://opendataco...</td>\n",
       "      <td>NaN</td>\n",
       "      <td>https://twitter.com/statuses/78516487677584998...</td>\n",
       "      <td>NaN</td>\n",
       "    </tr>\n",
       "    <tr>\n",
       "      <th>9</th>\n",
       "      <td>Open Data and Health</td>\n",
       "      <td>http://sched.co/7dGG</td>\n",
       "      <td>https://www.youtube.com/watch?v=n9sUFEwK5_A</td>\n",
       "      <td>https://docs.google.com/document/d/1r5JIKoO1Fv...</td>\n",
       "      <td>https://docs.google.com/document/d/1J5m0ln49F9...</td>\n",
       "      <td>http://opendatacon.org/how-to-create-smart-dat...</td>\n",
       "      <td>NaN</td>\n",
       "      <td>https://twitter.com/statuses/78436039020559564...</td>\n",
       "      <td>NaN</td>\n",
       "    </tr>\n",
       "    <tr>\n",
       "      <th>10</th>\n",
       "      <td>Breaking the Power of Closed</td>\n",
       "      <td>http://sched.co/7dGH</td>\n",
       "      <td>https://www.youtube.com/watch?v=MIr0Y1kMgzM</td>\n",
       "      <td>https://docs.google.com/document/d/1HQ-HGx1iKk...</td>\n",
       "      <td>https://docs.google.com/document/d/1oSZSss5ddU...</td>\n",
       "      <td>http://opendatacon.org/open-data-at-a-crossroa...</td>\n",
       "      <td>NaN</td>\n",
       "      <td>https://twitter.com/miskaknapek/status/7843274...</td>\n",
       "      <td>NaN</td>\n",
       "    </tr>\n",
       "    <tr>\n",
       "      <th>11</th>\n",
       "      <td>Open Data and Public Procurement</td>\n",
       "      <td>http://sched.co/7dGI</td>\n",
       "      <td>https://www.youtube.com/watch?v=-dSvs7KnR0E</td>\n",
       "      <td>https://docs.google.com/document/d/10kIECg0Bbk...</td>\n",
       "      <td>https://docs.google.com/document/d/1jOlmrlLHps...</td>\n",
       "      <td>http://opendatacon.org/impact-of-opening-publi...</td>\n",
       "      <td>NaN</td>\n",
       "      <td>https://twitter.com/statuses/78434391645988864...</td>\n",
       "      <td>NaN</td>\n",
       "    </tr>\n",
       "    <tr>\n",
       "      <th>12</th>\n",
       "      <td>Data and Gender: Thinking Critically</td>\n",
       "      <td>http://sched.co/7dGJ</td>\n",
       "      <td>https://www.youtube.com/watch?v=l6Vb2mtC_hI</td>\n",
       "      <td>https://docs.google.com/document/d/1TwxCRJYtZG...</td>\n",
       "      <td>https://docs.google.com/document/d/1teN6lQMRip...</td>\n",
       "      <td>http://opendatacon.org/want-to-make-your-open-...</td>\n",
       "      <td>NaN</td>\n",
       "      <td>https://twitter.com/statuses/78436482687320064...</td>\n",
       "      <td>NaN</td>\n",
       "    </tr>\n",
       "    <tr>\n",
       "      <th>13</th>\n",
       "      <td>Building an Inclusive Data Revolution</td>\n",
       "      <td>http://sched.co/7dGL</td>\n",
       "      <td>https://www.youtube.com/watch?v=B_UroacM3T0&amp;in...</td>\n",
       "      <td>https://docs.google.com/document/d/1SZ5mMTQ5QT...</td>\n",
       "      <td>https://docs.google.com/document/d/1yHhMprYmcZ...</td>\n",
       "      <td>http://opendatacon.org/scaling-up-the-open-dat...</td>\n",
       "      <td>NaN</td>\n",
       "      <td>https://twitter.com/statuses/78469049865308569...</td>\n",
       "      <td>NaN</td>\n",
       "    </tr>\n",
       "    <tr>\n",
       "      <th>14</th>\n",
       "      <td>Closing Remarks</td>\n",
       "      <td>http://sched.co/7dGM</td>\n",
       "      <td>https://www.youtube.com/watch?v=UUETms06YhI&amp;li...</td>\n",
       "      <td>https://docs.google.com/document/d/1X3wrdfI-5r...</td>\n",
       "      <td>NaN</td>\n",
       "      <td>http://opendatacon.org/three-takeaways-from-iodc/</td>\n",
       "      <td>https://medium.com/@hazwany/how-we-as-open-dat...</td>\n",
       "      <td>https://twitter.com/statuses/78441255522566963...</td>\n",
       "      <td>NaN</td>\n",
       "    </tr>\n",
       "  </tbody>\n",
       "</table>\n",
       "</div>"
      ],
      "text/plain": [
       "                                              Session            Sched Link  \\\n",
       "0                                    Official Welcome  http://sched.co/7dFq   \n",
       "1                          Global Goals, Local Impact  http://sched.co/7dFs   \n",
       "2                              Open Data and Business  http://sched.co/7dFu   \n",
       "3   Open Data and the Data Revolution for Sustaina...  http://sched.co/7dFy   \n",
       "4   Open Data and National Statistical Offices: Ex...  http://sched.co/7dG4   \n",
       "5   Scaling Up and Deepening Open Data's Transform...  http://sched.co/7dG6   \n",
       "6   Open Data Charter: Bringing Principles to Prac...  http://sched.co/7dGA   \n",
       "7                             Open Data and Platforms  http://sched.co/7dG8   \n",
       "8                                Reginal Talk: Europe  http://sched.co/7dGD   \n",
       "9                                Open Data and Health  http://sched.co/7dGG   \n",
       "10                       Breaking the Power of Closed  http://sched.co/7dGH   \n",
       "11                   Open Data and Public Procurement  http://sched.co/7dGI   \n",
       "12               Data and Gender: Thinking Critically  http://sched.co/7dGJ   \n",
       "13              Building an Inclusive Data Revolution  http://sched.co/7dGL   \n",
       "14                                    Closing Remarks  http://sched.co/7dGM   \n",
       "\n",
       "                                              YouTube  \\\n",
       "0         https://www.youtube.com/watch?v=9Y3OGiCnaFE   \n",
       "1         https://www.youtube.com/watch?v=9Y3OGiCnaFE   \n",
       "2         https://www.youtube.com/watch?v=CeBnNZs47CQ   \n",
       "3         https://www.youtube.com/watch?v=ZGUn3vqARoY   \n",
       "4         https://www.youtube.com/watch?v=VPosaCiNyHo   \n",
       "5         https://www.youtube.com/watch?v=QLTFlDxUSbg   \n",
       "6         https://www.youtube.com/watch?v=BLNNuK8Z0Sg   \n",
       "7         https://www.youtube.com/watch?v=WT0VE1LkNng   \n",
       "8         https://www.youtube.com/watch?v=0iyVu30Y8UM   \n",
       "9         https://www.youtube.com/watch?v=n9sUFEwK5_A   \n",
       "10        https://www.youtube.com/watch?v=MIr0Y1kMgzM   \n",
       "11        https://www.youtube.com/watch?v=-dSvs7KnR0E   \n",
       "12        https://www.youtube.com/watch?v=l6Vb2mtC_hI   \n",
       "13  https://www.youtube.com/watch?v=B_UroacM3T0&in...   \n",
       "14  https://www.youtube.com/watch?v=UUETms06YhI&li...   \n",
       "\n",
       "                               Session Planning Notes  \\\n",
       "0   https://docs.google.com/document/d/1Nep67kQVFu...   \n",
       "1   https://docs.google.com/document/d/1Nep67kQVFu...   \n",
       "2   https://docs.google.com/document/d/1-G9xEVr3IC...   \n",
       "3   https://docs.google.com/document/d/18RHZ7AAMd8...   \n",
       "4   https://docs.google.com/document/d/1nPyRMznZ0U...   \n",
       "5   https://docs.google.com/document/d/1MXR6lsqa51...   \n",
       "6   https://docs.google.com/document/d/16Q3CNOlwlO...   \n",
       "7   https://docs.google.com/document/d/1r8_yTE5msY...   \n",
       "8   https://docs.google.com/document/d/1SAVqC1mqqg...   \n",
       "9   https://docs.google.com/document/d/1r5JIKoO1Fv...   \n",
       "10  https://docs.google.com/document/d/1HQ-HGx1iKk...   \n",
       "11  https://docs.google.com/document/d/10kIECg0Bbk...   \n",
       "12  https://docs.google.com/document/d/1TwxCRJYtZG...   \n",
       "13  https://docs.google.com/document/d/1SZ5mMTQ5QT...   \n",
       "14  https://docs.google.com/document/d/1X3wrdfI-5r...   \n",
       "\n",
       "                                     Rapporteur Notes  \\\n",
       "0   https://docs.google.com/document/d/1RvPVygFtgq...   \n",
       "1   https://docs.google.com/document/d/15fR3sPcRIj...   \n",
       "2   https://docs.google.com/document/d/1I1wckxnlzp...   \n",
       "3   https://docs.google.com/document/d/1obk0NEtchV...   \n",
       "4   https://docs.google.com/document/d/1UlAxdts-dl...   \n",
       "5   https://docs.google.com/document/d/1pRSzpD6Dhu...   \n",
       "6   https://docs.google.com/document/d/1siAYRhxpvb...   \n",
       "7   https://docs.google.com/document/d/1_KQoOPLLNe...   \n",
       "8   https://docs.google.com/document/d/1Rgy5-MJx0W...   \n",
       "9   https://docs.google.com/document/d/1J5m0ln49F9...   \n",
       "10  https://docs.google.com/document/d/1oSZSss5ddU...   \n",
       "11  https://docs.google.com/document/d/1jOlmrlLHps...   \n",
       "12  https://docs.google.com/document/d/1teN6lQMRip...   \n",
       "13  https://docs.google.com/document/d/1yHhMprYmcZ...   \n",
       "14                                                NaN   \n",
       "\n",
       "                                           IODC Blogs  \\\n",
       "0                                                 NaN   \n",
       "1   http://opendatacon.org/share-your-best-open-da...   \n",
       "2                                                 NaN   \n",
       "3   http://opendatacon.org/scaling-up-the-open-dat...   \n",
       "4   http://opendatacon.org/three-takeaways-from-io...   \n",
       "5   http://opendatacon.org/driving-smart-city-inno...   \n",
       "6   http://opendatacon.org/engaging-the-private-se...   \n",
       "7   http://opendatacon.org/three-takeaways-from-io...   \n",
       "8   http://opendatacon.org/2882\\nhttp://opendataco...   \n",
       "9   http://opendatacon.org/how-to-create-smart-dat...   \n",
       "10  http://opendatacon.org/open-data-at-a-crossroa...   \n",
       "11  http://opendatacon.org/impact-of-opening-publi...   \n",
       "12  http://opendatacon.org/want-to-make-your-open-...   \n",
       "13  http://opendatacon.org/scaling-up-the-open-dat...   \n",
       "14  http://opendatacon.org/three-takeaways-from-iodc/   \n",
       "\n",
       "                                          Other Blogs  \\\n",
       "0                                                 NaN   \n",
       "1                                                 NaN   \n",
       "2                                                 NaN   \n",
       "3                                                 NaN   \n",
       "4                                                 NaN   \n",
       "5                                                 NaN   \n",
       "6                                                 NaN   \n",
       "7                                                 NaN   \n",
       "8                                                 NaN   \n",
       "9                                                 NaN   \n",
       "10                                                NaN   \n",
       "11                                                NaN   \n",
       "12                                                NaN   \n",
       "13                                                NaN   \n",
       "14  https://medium.com/@hazwany/how-we-as-open-dat...   \n",
       "\n",
       "                                               Tweets  Pictures  \n",
       "0   ttps://twitter.com/statuses/783951136516665344...       NaN  \n",
       "1   https://twitter.com/statuses/78359565226992844...       NaN  \n",
       "2   https://twitter.com/statuses/78359279885552844...       NaN  \n",
       "3   https://twitter.com/statuses/78438624227219046...       NaN  \n",
       "4   https://twitter.com/statuses/78361802894471168...       NaN  \n",
       "5   https://twitter.com/statuses/78879373287112704...       NaN  \n",
       "6     https://twitter.com/statuses/784285839312375808       NaN  \n",
       "7   https://twitter.com/statuses/78432320597656371...       NaN  \n",
       "8   https://twitter.com/statuses/78516487677584998...       NaN  \n",
       "9   https://twitter.com/statuses/78436039020559564...       NaN  \n",
       "10  https://twitter.com/miskaknapek/status/7843274...       NaN  \n",
       "11  https://twitter.com/statuses/78434391645988864...       NaN  \n",
       "12  https://twitter.com/statuses/78436482687320064...       NaN  \n",
       "13  https://twitter.com/statuses/78469049865308569...       NaN  \n",
       "14  https://twitter.com/statuses/78441255522566963...       NaN  "
      ]
     },
     "execution_count": 8,
     "metadata": {},
     "output_type": "execute_result"
    }
   ],
   "source": [
    "Main_Sessions"
   ]
  },
  {
   "cell_type": "code",
   "execution_count": 14,
   "metadata": {
    "collapsed": false
   },
   "outputs": [
    {
     "data": {
      "text/plain": [
       "'1'"
      ]
     },
     "execution_count": 14,
     "metadata": {},
     "output_type": "execute_result"
    }
   ],
   "source": [
    "str(1)"
   ]
  },
  {
   "cell_type": "code",
   "execution_count": 28,
   "metadata": {
    "collapsed": true
   },
   "outputs": [],
   "source": [
    "a = \"\"\"https://www.flickr.com/photos/144810968@N02/30045928602/in/album-72157673692020400/   https://www.flickr.com/photos/144810968@N02/30045926262/in/album-72157673692020400/  https://www.flickr.com/photos/144810968@N02/30160042815/in/album-72157673692020400/  https://www.flickr.com/photos/144810968@N02/30045922182/in/album-72157673692020400/  https://www.flickr.com/photos/144810968@N02/30045922182/in/album-72157673692020400/  https://www.flickr.com/photos/144810968@N02/30045571562/in/album-72157673692020400/\"\"\""
   ]
  },
  {
   "cell_type": "code",
   "execution_count": 29,
   "metadata": {
    "collapsed": false
   },
   "outputs": [
    {
     "data": {
      "text/plain": [
       "['https://www.flickr.com/photos/144810968@N02/30045928602/in/album-72157673692020400/',\n",
       " '',\n",
       " '',\n",
       " 'https://www.flickr.com/photos/144810968@N02/30045926262/in/album-72157673692020400/',\n",
       " '',\n",
       " 'https://www.flickr.com/photos/144810968@N02/30160042815/in/album-72157673692020400/',\n",
       " '',\n",
       " 'https://www.flickr.com/photos/144810968@N02/30045922182/in/album-72157673692020400/',\n",
       " '',\n",
       " 'https://www.flickr.com/photos/144810968@N02/30045922182/in/album-72157673692020400/',\n",
       " '',\n",
       " 'https://www.flickr.com/photos/144810968@N02/30045571562/in/album-72157673692020400/']"
      ]
     },
     "execution_count": 29,
     "metadata": {},
     "output_type": "execute_result"
    }
   ],
   "source": [
    "a.split(\" \")"
   ]
  },
  {
   "cell_type": "code",
   "execution_count": null,
   "metadata": {
    "collapsed": true
   },
   "outputs": [],
   "source": []
  }
 ],
 "metadata": {
  "kernelspec": {
   "display_name": "Python 3",
   "language": "python",
   "name": "python3"
  },
  "language_info": {
   "codemirror_mode": {
    "name": "ipython",
    "version": 3
   },
   "file_extension": ".py",
   "mimetype": "text/x-python",
   "name": "python",
   "nbconvert_exporter": "python",
   "pygments_lexer": "ipython3",
   "version": "3.4.1"
  }
 },
 "nbformat": 4,
 "nbformat_minor": 0
}
