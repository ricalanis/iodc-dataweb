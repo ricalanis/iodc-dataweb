{
 "cells": [
  {
   "cell_type": "code",
   "execution_count": 2,
   "metadata": {
    "collapsed": true
   },
   "outputs": [],
   "source": [
    "import requests\n",
    "import bs4"
   ]
  },
  {
   "cell_type": "code",
   "execution_count": 3,
   "metadata": {
    "collapsed": false
   },
   "outputs": [],
   "source": [
    "content =requests.get(\"https://twitter.com/statuses/783944054849560576\").content"
   ]
  },
  {
   "cell_type": "code",
   "execution_count": 4,
   "metadata": {
    "collapsed": false
   },
   "outputs": [
    {
     "name": "stderr",
     "output_type": "stream",
     "text": [
      "/usr/local/lib/python3.4/site-packages/bs4/__init__.py:166: UserWarning: No parser was explicitly specified, so I'm using the best available HTML parser for this system (\"lxml\"). This usually isn't a problem, but if you run this code on another system, or in a different virtual environment, it may use a different parser and behave differently.\n",
      "\n",
      "To get rid of this warning, change this:\n",
      "\n",
      " BeautifulSoup([your markup])\n",
      "\n",
      "to this:\n",
      "\n",
      " BeautifulSoup([your markup], \"lxml\")\n",
      "\n",
      "  markup_type=markup_type))\n"
     ]
    }
   ],
   "source": [
    "soup = bs4.BeautifulSoup(content)"
   ]
  },
  {
   "cell_type": "code",
   "execution_count": 8,
   "metadata": {
    "collapsed": false
   },
   "outputs": [
    {
     "name": "stdout",
     "output_type": "stream",
     "text": [
      "<p class=\"TweetTextSize TweetTextSize--26px js-tweet-text tweet-text\" data-aria-label-part=\"0\" lang=\"en\">There is no better place to be, welcome and muchas gracias <a class=\"twitter-atreply pretty-link js-nav\" data-mentioned-user-id=\"2871402869\" dir=\"ltr\" href=\"/opendatacon\"><s>@</s><b>opendatacon</b></a> <a class=\"twitter-hashtag pretty-link js-nav\" data-query-source=\"hashtag_click\" dir=\"ltr\" href=\"/hashtag/IODC16?src=hash\"><s>#</s><b>IODC16</b></a> <a class=\"twitter-hashtag pretty-link js-nav\" data-query-source=\"hashtag_click\" dir=\"ltr\" href=\"/hashtag/opendata?src=hash\"><s>#</s><b>opendata</b></a><a class=\"twitter-timeline-link u-hidden\" data-pre-embedded=\"true\" dir=\"ltr\" href=\"https://t.co/r8MpRR7DQr\">pic.twitter.com/r8MpRR7DQr</a></p>\n"
     ]
    }
   ],
   "source": [
    "text = str(soup.find(\"p\", {\"class\":\"tweet-text\"}))\n",
    "print(text)"
   ]
  },
  {
   "cell_type": "code",
   "execution_count": 11,
   "metadata": {
    "collapsed": false
   },
   "outputs": [
    {
     "data": {
      "text/plain": [
       "'<p class=\"TweetTextSize TweetTextSize--26px js-tweet-text tweet-text\" data-aria-label-part=\"0\" lang=\"en\">There is no better place to be, welcome and muchas gracias <a class=\"twitter-atreply pretty-link js-nav\" data-mentioned-user-id=\"2871402869\" dir=\"ltr\" href=\"http://www.twitter.com/opendatacon\"><s>@</s><b>opendatacon</b></a> <a class=\"twitter-hashtag pretty-link js-nav\" data-query-source=\"hashtag_click\" dir=\"ltr\" href=\"http://www.twitter.com/hashtag/IODC16?src=hash\"><s>#</s><b>IODC16</b></a> <a class=\"twitter-hashtag pretty-link js-nav\" data-query-source=\"hashtag_click\" dir=\"ltr\" href=\"http://www.twitter.com/hashtag/opendata?src=hash\"><s>#</s><b>opendata</b></a><a class=\"twitter-timeline-link u-hidden\" data-pre-embedded=\"true\" dir=\"ltr\" href=\"https://t.co/r8MpRR7DQr\">pic.twitter.com/r8MpRR7DQr</a></p>'"
      ]
     },
     "execution_count": 11,
     "metadata": {},
     "output_type": "execute_result"
    }
   ],
   "source": [
    "text.replace('href=\"/','href=\"http://www.twitter.com/')"
   ]
  },
  {
   "cell_type": "code",
   "execution_count": null,
   "metadata": {
    "collapsed": true
   },
   "outputs": [],
   "source": []
  }
 ],
 "metadata": {
  "kernelspec": {
   "display_name": "Python 3",
   "language": "python",
   "name": "python3"
  },
  "language_info": {
   "codemirror_mode": {
    "name": "ipython",
    "version": 3
   },
   "file_extension": ".py",
   "mimetype": "text/x-python",
   "name": "python",
   "nbconvert_exporter": "python",
   "pygments_lexer": "ipython3",
   "version": "3.4.1"
  }
 },
 "nbformat": 4,
 "nbformat_minor": 0
}
